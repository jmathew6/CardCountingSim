{
 "cells": [
  {
   "cell_type": "code",
   "execution_count": 1,
   "metadata": {},
   "outputs": [],
   "source": [
    "import numpy as np\n",
    "import random\n",
    "import statistics\n"
   ]
  },
  {
   "cell_type": "markdown",
   "metadata": {},
   "source": [
    "# Card Values"
   ]
  },
  {
   "cell_type": "code",
   "execution_count": 2,
   "metadata": {},
   "outputs": [],
   "source": [
    "ace_value=-1\n",
    "high_value=-1\n",
    "mid_value=0\n",
    "low_value= 1"
   ]
  },
  {
   "cell_type": "code",
   "execution_count": 3,
   "metadata": {},
   "outputs": [
    {
     "data": {
      "text/plain": [
       "0.0"
      ]
     },
     "execution_count": 3,
     "metadata": {},
     "output_type": "execute_result"
    }
   ],
   "source": [
    "#Make sure expected value is 0\n",
    "\n",
    "ace_value* 1/13 + high_value * 4/13 + mid_value* 3/13 + low_value*5/13"
   ]
  },
  {
   "cell_type": "markdown",
   "metadata": {},
   "source": [
    "# Initial Parameters"
   ]
  },
  {
   "cell_type": "code",
   "execution_count": 4,
   "metadata": {},
   "outputs": [],
   "source": [
    "num_decks=4\n",
    "#avg cards dealt per hand\n",
    "cards_per_hand= 7\n",
    "num_hands=8\n",
    "num_sims=100_000\n",
    "init_edge= -0.5/100\n",
    "#Change in edge by change in effective count\n",
    "delta_edge = 0.5/100\n",
    "min_bet=1\n",
    "max_bet=100\n",
    "kelly_roll=500_000\n",
    "min_edge= min_bet/ kelly_roll\n",
    "max_edge= max_bet/ kelly_roll"
   ]
  },
  {
   "cell_type": "markdown",
   "metadata": {},
   "source": [
    "# Helper Functions"
   ]
  },
  {
   "cell_type": "code",
   "execution_count": 5,
   "metadata": {},
   "outputs": [],
   "source": [
    "def deck_creator(n):\n",
    "    return ['A']*4*n + ['H']*16*n + ['M']*12*n + ['L']*20*n"
   ]
  },
  {
   "cell_type": "code",
   "execution_count": 6,
   "metadata": {},
   "outputs": [],
   "source": [
    "def hand_sim(deck, num_cards):\n",
    "    cards=[]\n",
    "    while len(cards)<num_cards:\n",
    "        l= len(deck)\n",
    "        i= random.randint(0,l-1)\n",
    "        cards.append(deck[i])\n",
    "        del deck[i]\n",
    "    return (deck, cards)"
   ]
  },
  {
   "cell_type": "code",
   "execution_count": 7,
   "metadata": {},
   "outputs": [],
   "source": [
    "def init_counter(deck):\n",
    "    count=0\n",
    "    for c in deck:\n",
    "        if c=='A':\n",
    "            count-= ace_value\n",
    "        \n",
    "        if c=='H':\n",
    "            count-= high_value\n",
    "            \n",
    "        if c=='M':\n",
    "            count-=mid_value\n",
    "            \n",
    "        if c=='L':\n",
    "            count-=low_value\n",
    "            \n",
    "    return count"
   ]
  },
  {
   "cell_type": "code",
   "execution_count": 8,
   "metadata": {},
   "outputs": [],
   "source": [
    "def one_count_sim(deck, cards_per_hand, num_hands):\n",
    "    start_count= init_counter(deck)*52/len(deck)\n",
    "    counts=[start_count]\n",
    "    d=deck\n",
    "    for i in range(num_hands - 1):\n",
    "        hand= hand_sim(d, cards_per_hand)\n",
    "        d= hand[0]\n",
    "        counts.append(-52 * init_counter(hand[-1])/ len(d))\n",
    "        \n",
    "        \n",
    "    return counts\n",
    "        \n",
    "    "
   ]
  },
  {
   "cell_type": "code",
   "execution_count": 9,
   "metadata": {},
   "outputs": [
    {
     "name": "stdout",
     "output_type": "stream",
     "text": [
      "0\n"
     ]
    },
    {
     "data": {
      "text/plain": [
       "[0.0, 2.2127659574468086, -3.7142857142857144, 1.4054054054054055, 0.0]"
      ]
     },
     "execution_count": 9,
     "metadata": {},
     "output_type": "execute_result"
    }
   ],
   "source": [
    "d= deck_creator(1)\n",
    "\n",
    "print(init_counter(d))\n",
    "\n",
    "\n",
    "one_count_sim(d, 5,5)"
   ]
  },
  {
   "cell_type": "code",
   "execution_count": 10,
   "metadata": {},
   "outputs": [],
   "source": [
    "def n_count_sims(n_sims, init_deck, cards_per_hand, num_hands):\n",
    "    counts=[]\n",
    "    for i in range(n_sims):\n",
    "        d= init_deck.copy()\n",
    "        sub_count= one_count_sim(d, cards_per_hand, num_hands)\n",
    "        counts+=sub_count\n",
    "    return counts"
   ]
  },
  {
   "cell_type": "code",
   "execution_count": 11,
   "metadata": {},
   "outputs": [],
   "source": [
    "results= n_count_sims(num_sims, deck_creator(num_decks), cards_per_hand, num_hands)"
   ]
  },
  {
   "cell_type": "code",
   "execution_count": 12,
   "metadata": {},
   "outputs": [
    {
     "data": {
      "text/plain": [
       "800000"
      ]
     },
     "execution_count": 12,
     "metadata": {},
     "output_type": "execute_result"
    }
   ],
   "source": [
    "len(results)"
   ]
  },
  {
   "cell_type": "code",
   "execution_count": 13,
   "metadata": {},
   "outputs": [],
   "source": [
    "def edge_amount(count):\n",
    "    return init_edge + delta_edge*count"
   ]
  },
  {
   "cell_type": "code",
   "execution_count": null,
   "metadata": {},
   "outputs": [],
   "source": [
    "exp_pnl=0\n",
    "edges=[]\n",
    "for r in results:\n",
    "    edge= edge_amount(r)\n",
    "    if edge<min_edge:\n",
    "        e= min_bet*edge\n",
    "        exp_pnl+= e\n",
    "        edges.append(e)\n",
    "        \n",
    "    elif edge>max_edge:\n",
    "        e= max_bet*edge\n",
    "        exp_pnl += e\n",
    "        edges.append(e)\n",
    "        \n",
    "    else:\n",
    "        e=kelly_roll*(edge**2)\n",
    "        exp_pnl += e\n",
    "        edges.append(e)\n",
    "        "
   ]
  },
  {
   "cell_type": "markdown",
   "metadata": {},
   "source": [
    "# Results"
   ]
  },
  {
   "cell_type": "code",
   "execution_count": 14,
   "metadata": {},
   "outputs": [
    {
     "data": {
      "text/plain": [
       "2618.0867501114903"
      ]
     },
     "execution_count": 14,
     "metadata": {},
     "output_type": "execute_result"
    }
   ],
   "source": [
    "\n",
    "#pnl_amount\n",
    "exp_pnl"
   ]
  },
  {
   "cell_type": "code",
   "execution_count": 15,
   "metadata": {},
   "outputs": [
    {
     "data": {
      "text/plain": [
       "64.9911451436244"
      ]
     },
     "execution_count": 15,
     "metadata": {},
     "output_type": "execute_result"
    }
   ],
   "source": [
    "#sds above 0\n",
    "sum(edges)/ (np.sqrt(len(edges)) *statistics.stdev(edges))"
   ]
  },
  {
   "cell_type": "code",
   "execution_count": null,
   "metadata": {},
   "outputs": [],
   "source": []
  }
 ],
 "metadata": {
  "kernelspec": {
   "display_name": "Python 3",
   "language": "python",
   "name": "python3"
  },
  "language_info": {
   "codemirror_mode": {
    "name": "ipython",
    "version": 3
   },
   "file_extension": ".py",
   "mimetype": "text/x-python",
   "name": "python",
   "nbconvert_exporter": "python",
   "pygments_lexer": "ipython3",
   "version": "3.7.4"
  }
 },
 "nbformat": 4,
 "nbformat_minor": 2
}
